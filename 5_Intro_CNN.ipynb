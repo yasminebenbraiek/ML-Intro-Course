{
  "cells": [
    {
      "cell_type": "markdown",
      "metadata": {
        "id": "view-in-github",
        "colab_type": "text"
      },
      "source": [
        "<a href=\"https://colab.research.google.com/github/yasminebenbraiek/ML-Intro-Course/blob/main/5_Intro_CNN.ipynb\" target=\"_parent\"><img src=\"https://colab.research.google.com/assets/colab-badge.svg\" alt=\"Open In Colab\"/></a>"
      ]
    },
    {
      "cell_type": "code",
      "execution_count": null,
      "metadata": {
        "id": "0z3eVrFw_gL3"
      },
      "outputs": [],
      "source": [
        "import keras #api/bib pour construire le modele neuronal\n",
        "from keras.datasets import mnist # import the function mnist, used to immport data\n",
        "from keras.models import Sequential #couches sequentielles, utilisé pour préparer l'emplacement des couches\n",
        "from keras.layers import Dense, Dropout # Dense = Fully Connected layer.\n",
        "from keras.optimizers import RMSprop, Adam #agir sur les poids\n",
        "import matplotlib.pyplot as plt # shorcut for a plot function"
      ]
    },
    {
      "cell_type": "code",
      "execution_count": null,
      "metadata": {
        "id": "0uUpfM7cCSyY"
      },
      "outputs": [],
      "source": [
        "batch_size = 128 #kenet 128 #nombre d'exemples pour une mis à jour => w= w - somme(DWi) pour notre cas 60000/128, optimise le taux d'app et gain de temps\n",
        "num_classes = 10\n",
        "epochs = 100"
      ]
    },
    {
      "cell_type": "code",
      "execution_count": null,
      "metadata": {
        "id": "258X3nPMCcW2",
        "colab": {
          "base_uri": "https://localhost:8080/"
        },
        "outputId": "644f03e0-f60e-4ef5-9b48-4e58637c039b"
      },
      "outputs": [
        {
          "output_type": "stream",
          "name": "stdout",
          "text": [
            "Downloading data from https://storage.googleapis.com/tensorflow/tf-keras-datasets/mnist.npz\n",
            "11490434/11490434 [==============================] - 2s 0us/step\n"
          ]
        }
      ],
      "source": [
        "(x_train, y_train),(x_test,y_test) = mnist.load_data()"
      ]
    },
    {
      "cell_type": "code",
      "execution_count": null,
      "metadata": {
        "colab": {
          "base_uri": "https://localhost:8080/",
          "height": 534
        },
        "id": "PcxhNw8TE5M0",
        "outputId": "c4ef01a8-ca3d-457f-f061-fbb1949c57cb"
      },
      "outputs": [
        {
          "output_type": "stream",
          "name": "stdout",
          "text": [
            "(60000, 28, 28)\n",
            "(10000, 28, 28)\n",
            "(60000,)\n",
            "(10000,)\n",
            "[5 0 4 1 9 2 1 3 1 4]\n"
          ]
        },
        {
          "output_type": "execute_result",
          "data": {
            "text/plain": [
              "<matplotlib.image.AxesImage at 0x7f8f1449f130>"
            ]
          },
          "metadata": {},
          "execution_count": 5
        },
        {
          "output_type": "display_data",
          "data": {
            "text/plain": [
              "<Figure size 640x480 with 1 Axes>"
            ],
            "image/png": "[encoded data removed]"
          },
          "metadata": {}
        }
      ],
      "source": [
        "print(x_train.shape)\n",
        "print(x_test.shape)\n",
        "print(y_train.shape)\n",
        "print(y_test.shape)\n",
        "print(y_train[:10])\n",
        "plt.imshow(x_train[9,:,:], cmap='gray')"
      ]
    },
    {
      "cell_type": "code",
      "execution_count": null,
      "metadata": {
        "colab": {
          "base_uri": "https://localhost:8080/"
        },
        "id": "W0fKrOXvGPJM",
        "outputId": "6bace2bd-7979-4773-df8f-ffa81feebe58"
      },
      "outputs": [
        {
          "output_type": "stream",
          "name": "stdout",
          "text": [
            "60000 train samples\n",
            "10000 test samples\n"
          ]
        }
      ],
      "source": [
        "x_train = x_train.reshape(60000,784) #couche d'entrée est un vecteur de 784 (caracteristiques) 28*28\n",
        "x_test = x_test.reshape(10000,784)\n",
        "x_train = x_train.astype('float32') #conversion;car c'etait integer, or le calcul dans rna est réel\n",
        "x_test = x_test.astype('float32')\n",
        "x_train  /= 255 #intervalle de [0,1], normalisation, on approche les données d'entrée pour une meilleure performance\n",
        "x_test /= 255\n",
        "print(x_train.shape[0], 'train samples')\n",
        "print(x_test.shape[0], 'test samples')"
      ]
    },
    {
      "cell_type": "code",
      "execution_count": null,
      "metadata": {
        "colab": {
          "base_uri": "https://localhost:8080/"
        },
        "id": "DtnkCuhWH2bk",
        "outputId": "7f819b7e-9e44-4845-8ecf-6c7ca87c7cbe"
      },
      "outputs": [
        {
          "output_type": "stream",
          "name": "stdout",
          "text": [
            "[1. 0. 0. 0. 0. 0. 0. 0. 0. 0.]\n"
          ]
        }
      ],
      "source": [
        "#on l'excute une fois\n",
        "y_train = keras.utils.to_categorical(y_train, num_classes)\n",
        "y_test = keras.utils.to_categorical(y_test, num_classes)\n",
        "#10 neurones couches de sortie\n",
        "print(y_train[1,:])\n",
        "#proba = 1"
      ]
    },
    {
      "cell_type": "code",
      "source": [
        "from keras.layers import Dense, Dropout,Flatten\n",
        "from keras.layers import Conv2D, MaxPooling2D\n",
        "x_train = x_train.reshape(x_train.shape[0],28,28,1)\n",
        "x_test = x_test.reshape(x_test.shape[0],28,28,1)\n",
        "input_shape = (28,28,1)"
      ],
      "metadata": {
        "id": "I7M3SN8XDofF"
      },
      "execution_count": null,
      "outputs": []
    },
    {
      "cell_type": "code",
      "source": [
        "model = Sequential ()\n",
        "model.add(Conv2D(32, kernel_size=(3, 3),activation='relu',input_shape=input_shape))\n",
        "model. add(Conv2D(64, (3, 3), activation='relu'))\n",
        "\n",
        "model. add (MaxPooling2D(pool_size=(2, 2)))\n",
        "model. add(Dropout (0.25))\n",
        "\n",
        "model.add(Flatten())\n",
        "\n",
        "model.add(Dense(200,activation='relu'))\n",
        "model.add(Dropout(0.4))\n",
        "\n",
        "model.add(Dense(200,activation='relu'))\n",
        "model.add(Dropout(0.4))\n",
        "\n",
        "model.add(Dense(10,activation='softmax'))\n",
        "\n",
        "model.summary()\n"
      ],
      "metadata": {
        "colab": {
          "base_uri": "https://localhost:8080/"
        },
        "id": "IDMmeFTsGRFX",
        "outputId": "1759ada9-ebc5-4597-8748-402020ac73e9"
      },
      "execution_count": null,
      "outputs": [
        {
          "output_type": "stream",
          "name": "stdout",
          "text": [
            "Model: \"sequential\"\n",
            "_________________________________________________________________\n",
            " Layer (type)                Output Shape              Param #   \n",
            "=================================================================\n",
            " conv2d (Conv2D)             (None, 26, 26, 32)        320       \n",
            "                                                                 \n",
            " conv2d_1 (Conv2D)           (None, 24, 24, 64)        18496     \n",
            "                                                                 \n",
            " max_pooling2d (MaxPooling2D  (None, 12, 12, 64)       0         \n",
            " )                                                               \n",
            "                                                                 \n",
            " dropout (Dropout)           (None, 12, 12, 64)        0         \n",
            "                                                                 \n",
            " flatten (Flatten)           (None, 9216)              0         \n",
            "                                                                 \n",
            " dense (Dense)               (None, 200)               1843400   \n",
            "                                                                 \n",
            " dropout_1 (Dropout)         (None, 200)               0         \n",
            "                                                                 \n",
            " dense_1 (Dense)             (None, 200)               40200     \n",
            "                                                                 \n",
            " dropout_2 (Dropout)         (None, 200)               0         \n",
            "                                                                 \n",
            " dense_2 (Dense)             (None, 10)                2010      \n",
            "                                                                 \n",
            "=================================================================\n",
            "Total params: 1,904,426\n",
            "Trainable params: 1,904,426\n",
            "Non-trainable params: 0\n",
            "_________________________________________________________________\n"
          ]
        }
      ]
    },
    {
      "cell_type": "code",
      "execution_count": null,
      "metadata": {
        "id": "tWesB6_POVCD"
      },
      "outputs": [],
      "source": [
        "model.compile(loss='categorical_crossentropy',\n",
        "              optimizer=Adam(),\n",
        "              metrics=['accuracy'])"
      ]
    },
    {
      "cell_type": "code",
      "execution_count": null,
      "metadata": {
        "id": "OfS8sVEbOooq",
        "colab": {
          "base_uri": "https://localhost:8080/"
        },
        "outputId": "4c0532d2-781e-4bb7-eebd-341d98145b06"
      },
      "outputs": [
        {
          "output_type": "stream",
          "name": "stdout",
          "text": [
            "Epoch 1/100\n",
            "469/469 [==============================] - 14s 11ms/step - loss: 0.2478 - accuracy: 0.9230 - val_loss: 0.0470 - val_accuracy: 0.9853\n",
            "Epoch 2/100\n",
            "469/469 [==============================] - 5s 10ms/step - loss: 0.0759 - accuracy: 0.9780 - val_loss: 0.0391 - val_accuracy: 0.9869\n",
            "Epoch 3/100\n",
            "469/469 [==============================] - 5s 10ms/step - loss: 0.0566 - accuracy: 0.9833 - val_loss: 0.0330 - val_accuracy: 0.9891\n",
            "Epoch 4/100\n",
            "469/469 [==============================] - 4s 10ms/step - loss: 0.0445 - accuracy: 0.9867 - val_loss: 0.0346 - val_accuracy: 0.9896\n",
            "Epoch 5/100\n",
            "469/469 [==============================] - 5s 10ms/step - loss: 0.0378 - accuracy: 0.9887 - val_loss: 0.0309 - val_accuracy: 0.9897\n",
            "Epoch 6/100\n",
            "469/469 [==============================] - 5s 10ms/step - loss: 0.0317 - accuracy: 0.9905 - val_loss: 0.0349 - val_accuracy: 0.9884\n",
            "Epoch 7/100\n",
            "469/469 [==============================] - 5s 10ms/step - loss: 0.0263 - accuracy: 0.9919 - val_loss: 0.0294 - val_accuracy: 0.9910\n",
            "Epoch 8/100\n",
            "469/469 [==============================] - 5s 10ms/step - loss: 0.0244 - accuracy: 0.9923 - val_loss: 0.0327 - val_accuracy: 0.9916\n",
            "Epoch 9/100\n",
            "469/469 [==============================] - 5s 10ms/step - loss: 0.0217 - accuracy: 0.9933 - val_loss: 0.0318 - val_accuracy: 0.9923\n",
            "Epoch 10/100\n",
            "469/469 [==============================] - 5s 11ms/step - loss: 0.0202 - accuracy: 0.9938 - val_loss: 0.0306 - val_accuracy: 0.9919\n",
            "Epoch 11/100\n",
            "469/469 [==============================] - 5s 12ms/step - loss: 0.0185 - accuracy: 0.9942 - val_loss: 0.0301 - val_accuracy: 0.9920\n",
            "Epoch 12/100\n",
            "469/469 [==============================] - 5s 10ms/step - loss: 0.0169 - accuracy: 0.9946 - val_loss: 0.0297 - val_accuracy: 0.9929\n",
            "Epoch 13/100\n",
            "469/469 [==============================] - 5s 11ms/step - loss: 0.0145 - accuracy: 0.9956 - val_loss: 0.0282 - val_accuracy: 0.9928\n",
            "Epoch 14/100\n",
            "469/469 [==============================] - 5s 10ms/step - loss: 0.0147 - accuracy: 0.9953 - val_loss: 0.0317 - val_accuracy: 0.9920\n",
            "Epoch 15/100\n",
            "469/469 [==============================] - 5s 10ms/step - loss: 0.0133 - accuracy: 0.9956 - val_loss: 0.0312 - val_accuracy: 0.9916\n",
            "Epoch 16/100\n",
            "469/469 [==============================] - 5s 11ms/step - loss: 0.0127 - accuracy: 0.9962 - val_loss: 0.0289 - val_accuracy: 0.9930\n",
            "Epoch 17/100\n",
            "469/469 [==============================] - 5s 11ms/step - loss: 0.0126 - accuracy: 0.9961 - val_loss: 0.0389 - val_accuracy: 0.9918\n",
            "Epoch 18/100\n",
            "469/469 [==============================] - 5s 10ms/step - loss: 0.0123 - accuracy: 0.9960 - val_loss: 0.0272 - val_accuracy: 0.9930\n",
            "Epoch 19/100\n",
            "469/469 [==============================] - 5s 11ms/step - loss: 0.0113 - accuracy: 0.9962 - val_loss: 0.0326 - val_accuracy: 0.9926\n",
            "Epoch 20/100\n",
            "469/469 [==============================] - 5s 10ms/step - loss: 0.0100 - accuracy: 0.9966 - val_loss: 0.0298 - val_accuracy: 0.9926\n",
            "Epoch 21/100\n",
            "469/469 [==============================] - 5s 10ms/step - loss: 0.0087 - accuracy: 0.9971 - val_loss: 0.0336 - val_accuracy: 0.9923\n",
            "Epoch 22/100\n",
            "469/469 [==============================] - 5s 10ms/step - loss: 0.0098 - accuracy: 0.9970 - val_loss: 0.0294 - val_accuracy: 0.9934\n",
            "Epoch 23/100\n",
            "469/469 [==============================] - 5s 10ms/step - loss: 0.0099 - accuracy: 0.9970 - val_loss: 0.0321 - val_accuracy: 0.9925\n",
            "Epoch 24/100\n",
            "469/469 [==============================] - 5s 11ms/step - loss: 0.0104 - accuracy: 0.9970 - val_loss: 0.0319 - val_accuracy: 0.9927\n",
            "Epoch 25/100\n",
            "469/469 [==============================] - 5s 10ms/step - loss: 0.0102 - accuracy: 0.9968 - val_loss: 0.0358 - val_accuracy: 0.9921\n",
            "Epoch 26/100\n",
            "469/469 [==============================] - 5s 10ms/step - loss: 0.0085 - accuracy: 0.9974 - val_loss: 0.0338 - val_accuracy: 0.9930\n",
            "Epoch 27/100\n",
            "469/469 [==============================] - 5s 11ms/step - loss: 0.0090 - accuracy: 0.9973 - val_loss: 0.0278 - val_accuracy: 0.9929\n",
            "Epoch 28/100\n",
            "469/469 [==============================] - 5s 10ms/step - loss: 0.0081 - accuracy: 0.9974 - val_loss: 0.0282 - val_accuracy: 0.9925\n",
            "Epoch 29/100\n",
            "469/469 [==============================] - 5s 10ms/step - loss: 0.0081 - accuracy: 0.9978 - val_loss: 0.0334 - val_accuracy: 0.9933\n",
            "Epoch 30/100\n",
            "469/469 [==============================] - 5s 10ms/step - loss: 0.0080 - accuracy: 0.9976 - val_loss: 0.0325 - val_accuracy: 0.9937\n",
            "Epoch 31/100\n",
            "469/469 [==============================] - 5s 10ms/step - loss: 0.0083 - accuracy: 0.9977 - val_loss: 0.0296 - val_accuracy: 0.9928\n",
            "Epoch 32/100\n",
            "469/469 [==============================] - 5s 11ms/step - loss: 0.0072 - accuracy: 0.9977 - val_loss: 0.0312 - val_accuracy: 0.9934\n",
            "Epoch 33/100\n",
            "469/469 [==============================] - 6s 12ms/step - loss: 0.0072 - accuracy: 0.9977 - val_loss: 0.0304 - val_accuracy: 0.9942\n",
            "Epoch 34/100\n",
            "469/469 [==============================] - 5s 10ms/step - loss: 0.0071 - accuracy: 0.9976 - val_loss: 0.0376 - val_accuracy: 0.9916\n",
            "Epoch 35/100\n",
            "469/469 [==============================] - 5s 10ms/step - loss: 0.0089 - accuracy: 0.9976 - val_loss: 0.0371 - val_accuracy: 0.9918\n",
            "Epoch 36/100\n",
            "469/469 [==============================] - 5s 10ms/step - loss: 0.0060 - accuracy: 0.9981 - val_loss: 0.0316 - val_accuracy: 0.9932\n",
            "Epoch 37/100\n",
            "469/469 [==============================] - 5s 10ms/step - loss: 0.0056 - accuracy: 0.9984 - val_loss: 0.0351 - val_accuracy: 0.9922\n",
            "Epoch 38/100\n",
            "469/469 [==============================] - 5s 10ms/step - loss: 0.0075 - accuracy: 0.9977 - val_loss: 0.0319 - val_accuracy: 0.9932\n",
            "Epoch 39/100\n",
            "469/469 [==============================] - 5s 10ms/step - loss: 0.0074 - accuracy: 0.9979 - val_loss: 0.0367 - val_accuracy: 0.9925\n",
            "Epoch 40/100\n",
            "469/469 [==============================] - 5s 11ms/step - loss: 0.0053 - accuracy: 0.9984 - val_loss: 0.0350 - val_accuracy: 0.9936\n",
            "Epoch 41/100\n",
            "469/469 [==============================] - 5s 10ms/step - loss: 0.0065 - accuracy: 0.9981 - val_loss: 0.0365 - val_accuracy: 0.9925\n",
            "Epoch 42/100\n",
            "469/469 [==============================] - 5s 11ms/step - loss: 0.0066 - accuracy: 0.9980 - val_loss: 0.0370 - val_accuracy: 0.9928\n",
            "Epoch 43/100\n",
            "469/469 [==============================] - 5s 10ms/step - loss: 0.0063 - accuracy: 0.9981 - val_loss: 0.0371 - val_accuracy: 0.9928\n",
            "Epoch 44/100\n",
            "469/469 [==============================] - 5s 10ms/step - loss: 0.0054 - accuracy: 0.9983 - val_loss: 0.0357 - val_accuracy: 0.9930\n",
            "Epoch 45/100\n",
            "469/469 [==============================] - 5s 11ms/step - loss: 0.0057 - accuracy: 0.9984 - val_loss: 0.0408 - val_accuracy: 0.9922\n",
            "Epoch 46/100\n",
            "469/469 [==============================] - 5s 10ms/step - loss: 0.0058 - accuracy: 0.9984 - val_loss: 0.0370 - val_accuracy: 0.9938\n",
            "Epoch 47/100\n",
            "469/469 [==============================] - 5s 10ms/step - loss: 0.0070 - accuracy: 0.9980 - val_loss: 0.0519 - val_accuracy: 0.9911\n",
            "Epoch 48/100\n",
            "469/469 [==============================] - 5s 11ms/step - loss: 0.0068 - accuracy: 0.9979 - val_loss: 0.0376 - val_accuracy: 0.9937\n",
            "Epoch 49/100\n",
            "469/469 [==============================] - 5s 10ms/step - loss: 0.0048 - accuracy: 0.9984 - val_loss: 0.0351 - val_accuracy: 0.9938\n",
            "Epoch 50/100\n",
            "469/469 [==============================] - 5s 11ms/step - loss: 0.0058 - accuracy: 0.9983 - val_loss: 0.0292 - val_accuracy: 0.9939\n",
            "Epoch 51/100\n",
            "469/469 [==============================] - 5s 10ms/step - loss: 0.0046 - accuracy: 0.9985 - val_loss: 0.0390 - val_accuracy: 0.9934\n",
            "Epoch 52/100\n",
            "469/469 [==============================] - 5s 10ms/step - loss: 0.0056 - accuracy: 0.9986 - val_loss: 0.0379 - val_accuracy: 0.9932\n",
            "Epoch 53/100\n",
            "469/469 [==============================] - 5s 11ms/step - loss: 0.0047 - accuracy: 0.9988 - val_loss: 0.0372 - val_accuracy: 0.9939\n",
            "Epoch 54/100\n",
            "469/469 [==============================] - 5s 10ms/step - loss: 0.0051 - accuracy: 0.9987 - val_loss: 0.0404 - val_accuracy: 0.9927\n",
            "Epoch 55/100\n",
            "469/469 [==============================] - 5s 11ms/step - loss: 0.0054 - accuracy: 0.9983 - val_loss: 0.0390 - val_accuracy: 0.9933\n",
            "Epoch 56/100\n",
            "469/469 [==============================] - 5s 10ms/step - loss: 0.0057 - accuracy: 0.9983 - val_loss: 0.0371 - val_accuracy: 0.9932\n",
            "Epoch 57/100\n",
            "469/469 [==============================] - 5s 10ms/step - loss: 0.0044 - accuracy: 0.9986 - val_loss: 0.0476 - val_accuracy: 0.9929\n",
            "Epoch 58/100\n",
            "469/469 [==============================] - 5s 10ms/step - loss: 0.0047 - accuracy: 0.9988 - val_loss: 0.0395 - val_accuracy: 0.9925\n",
            "Epoch 59/100\n",
            "469/469 [==============================] - 5s 10ms/step - loss: 0.0062 - accuracy: 0.9984 - val_loss: 0.0413 - val_accuracy: 0.9929\n",
            "Epoch 60/100\n",
            "469/469 [==============================] - 5s 10ms/step - loss: 0.0056 - accuracy: 0.9984 - val_loss: 0.0391 - val_accuracy: 0.9925\n",
            "Epoch 61/100\n",
            "469/469 [==============================] - 5s 10ms/step - loss: 0.0045 - accuracy: 0.9985 - val_loss: 0.0409 - val_accuracy: 0.9928\n",
            "Epoch 62/100\n",
            "469/469 [==============================] - 5s 10ms/step - loss: 0.0054 - accuracy: 0.9985 - val_loss: 0.0427 - val_accuracy: 0.9916\n",
            "Epoch 63/100\n",
            "469/469 [==============================] - 5s 11ms/step - loss: 0.0046 - accuracy: 0.9986 - val_loss: 0.0414 - val_accuracy: 0.9932\n",
            "Epoch 64/100\n",
            "469/469 [==============================] - 5s 10ms/step - loss: 0.0049 - accuracy: 0.9985 - val_loss: 0.0402 - val_accuracy: 0.9934\n",
            "Epoch 65/100\n",
            "469/469 [==============================] - 5s 10ms/step - loss: 0.0043 - accuracy: 0.9987 - val_loss: 0.0489 - val_accuracy: 0.9928\n",
            "Epoch 66/100\n",
            "469/469 [==============================] - 5s 11ms/step - loss: 0.0047 - accuracy: 0.9986 - val_loss: 0.0524 - val_accuracy: 0.9924\n",
            "Epoch 67/100\n",
            "469/469 [==============================] - 5s 10ms/step - loss: 0.0060 - accuracy: 0.9984 - val_loss: 0.0405 - val_accuracy: 0.9928\n",
            "Epoch 68/100\n",
            "469/469 [==============================] - 5s 10ms/step - loss: 0.0045 - accuracy: 0.9987 - val_loss: 0.0433 - val_accuracy: 0.9929\n",
            "Epoch 69/100\n",
            "469/469 [==============================] - 5s 11ms/step - loss: 0.0046 - accuracy: 0.9987 - val_loss: 0.0492 - val_accuracy: 0.9919\n",
            "Epoch 70/100\n",
            "469/469 [==============================] - 5s 10ms/step - loss: 0.0044 - accuracy: 0.9988 - val_loss: 0.0429 - val_accuracy: 0.9918\n",
            "Epoch 71/100\n",
            "469/469 [==============================] - 5s 11ms/step - loss: 0.0042 - accuracy: 0.9988 - val_loss: 0.0471 - val_accuracy: 0.9932\n",
            "Epoch 72/100\n",
            "469/469 [==============================] - 5s 10ms/step - loss: 0.0054 - accuracy: 0.9988 - val_loss: 0.0523 - val_accuracy: 0.9922\n",
            "Epoch 73/100\n",
            "469/469 [==============================] - 5s 10ms/step - loss: 0.0045 - accuracy: 0.9987 - val_loss: 0.0470 - val_accuracy: 0.9925\n",
            "Epoch 74/100\n",
            "469/469 [==============================] - 5s 10ms/step - loss: 0.0045 - accuracy: 0.9987 - val_loss: 0.0439 - val_accuracy: 0.9932\n",
            "Epoch 75/100\n",
            "469/469 [==============================] - 5s 10ms/step - loss: 0.0052 - accuracy: 0.9984 - val_loss: 0.0411 - val_accuracy: 0.9922\n",
            "Epoch 76/100\n",
            "469/469 [==============================] - 5s 10ms/step - loss: 0.0053 - accuracy: 0.9987 - val_loss: 0.0519 - val_accuracy: 0.9918\n",
            "Epoch 77/100\n",
            "469/469 [==============================] - 5s 10ms/step - loss: 0.0036 - accuracy: 0.9989 - val_loss: 0.0538 - val_accuracy: 0.9925\n",
            "Epoch 78/100\n",
            "469/469 [==============================] - 5s 10ms/step - loss: 0.0041 - accuracy: 0.9990 - val_loss: 0.0478 - val_accuracy: 0.9929\n",
            "Epoch 79/100\n",
            "469/469 [==============================] - 5s 11ms/step - loss: 0.0060 - accuracy: 0.9985 - val_loss: 0.0464 - val_accuracy: 0.9924\n",
            "Epoch 80/100\n",
            "469/469 [==============================] - 5s 10ms/step - loss: 0.0035 - accuracy: 0.9990 - val_loss: 0.0505 - val_accuracy: 0.9931\n",
            "Epoch 81/100\n",
            "469/469 [==============================] - 5s 10ms/step - loss: 0.0045 - accuracy: 0.9987 - val_loss: 0.0495 - val_accuracy: 0.9927\n",
            "Epoch 82/100\n",
            "469/469 [==============================] - 5s 10ms/step - loss: 0.0037 - accuracy: 0.9990 - val_loss: 0.0518 - val_accuracy: 0.9926\n",
            "Epoch 83/100\n",
            "469/469 [==============================] - 5s 10ms/step - loss: 0.0047 - accuracy: 0.9989 - val_loss: 0.0532 - val_accuracy: 0.9920\n",
            "Epoch 84/100\n",
            "469/469 [==============================] - 5s 10ms/step - loss: 0.0035 - accuracy: 0.9990 - val_loss: 0.0452 - val_accuracy: 0.9932\n",
            "Epoch 85/100\n",
            "469/469 [==============================] - 5s 10ms/step - loss: 0.0044 - accuracy: 0.9987 - val_loss: 0.0384 - val_accuracy: 0.9931\n",
            "Epoch 86/100\n",
            "469/469 [==============================] - 5s 10ms/step - loss: 0.0046 - accuracy: 0.9988 - val_loss: 0.0438 - val_accuracy: 0.9935\n",
            "Epoch 87/100\n",
            "469/469 [==============================] - 5s 11ms/step - loss: 0.0034 - accuracy: 0.9990 - val_loss: 0.0494 - val_accuracy: 0.9928\n",
            "Epoch 88/100\n",
            "469/469 [==============================] - 5s 10ms/step - loss: 0.0043 - accuracy: 0.9990 - val_loss: 0.0493 - val_accuracy: 0.9926\n",
            "Epoch 89/100\n",
            "469/469 [==============================] - 5s 10ms/step - loss: 0.0043 - accuracy: 0.9988 - val_loss: 0.0448 - val_accuracy: 0.9936\n",
            "Epoch 90/100\n",
            "469/469 [==============================] - 5s 10ms/step - loss: 0.0034 - accuracy: 0.9992 - val_loss: 0.0425 - val_accuracy: 0.9931\n",
            "Epoch 91/100\n",
            "469/469 [==============================] - 5s 10ms/step - loss: 0.0044 - accuracy: 0.9988 - val_loss: 0.0486 - val_accuracy: 0.9927\n",
            "Epoch 92/100\n",
            "469/469 [==============================] - 5s 10ms/step - loss: 0.0048 - accuracy: 0.9988 - val_loss: 0.0469 - val_accuracy: 0.9929\n",
            "Epoch 93/100\n",
            "469/469 [==============================] - 5s 11ms/step - loss: 0.0034 - accuracy: 0.9990 - val_loss: 0.0492 - val_accuracy: 0.9927\n",
            "Epoch 94/100\n",
            "469/469 [==============================] - 5s 10ms/step - loss: 0.0050 - accuracy: 0.9988 - val_loss: 0.0393 - val_accuracy: 0.9923\n",
            "Epoch 95/100\n",
            "469/469 [==============================] - 5s 11ms/step - loss: 0.0039 - accuracy: 0.9990 - val_loss: 0.0471 - val_accuracy: 0.9932\n",
            "Epoch 96/100\n",
            "469/469 [==============================] - 5s 10ms/step - loss: 0.0041 - accuracy: 0.9990 - val_loss: 0.0403 - val_accuracy: 0.9931\n",
            "Epoch 97/100\n",
            "469/469 [==============================] - 5s 10ms/step - loss: 0.0033 - accuracy: 0.9990 - val_loss: 0.0524 - val_accuracy: 0.9930\n",
            "Epoch 98/100\n",
            "469/469 [==============================] - 5s 10ms/step - loss: 0.0041 - accuracy: 0.9990 - val_loss: 0.0559 - val_accuracy: 0.9925\n",
            "Epoch 99/100\n",
            "469/469 [==============================] - 5s 10ms/step - loss: 0.0045 - accuracy: 0.9988 - val_loss: 0.0469 - val_accuracy: 0.9923\n",
            "Epoch 100/100\n",
            "469/469 [==============================] - 5s 11ms/step - loss: 0.0053 - accuracy: 0.9986 - val_loss: 0.0483 - val_accuracy: 0.9925\n"
          ]
        }
      ],
      "source": [
        "history = model.fit(\n",
        "    x_train,\n",
        "    y_train,\n",
        "    batch_size = batch_size,\n",
        "    epochs=epochs,\n",
        "    verbose = 1, #print all\n",
        "    validation_data = (x_test,y_test)\n",
        ")"
      ]
    },
    {
      "cell_type": "code",
      "source": [
        "score = model.evaluate(x_test,y_test,verbose=1,batch_size=batch_size)\n",
        "print('test loss: ',score[0])\n",
        "print('test accuracy: ',score[1])"
      ],
      "metadata": {
        "id": "uG0JsAetwAkv",
        "colab": {
          "base_uri": "https://localhost:8080/"
        },
        "outputId": "51bb4b0e-6389-48a0-8306-c0a935a4d6b2"
      },
      "execution_count": null,
      "outputs": [
        {
          "output_type": "stream",
          "name": "stdout",
          "text": [
            "79/79 [==============================] - 0s 6ms/step - loss: 0.0483 - accuracy: 0.9925\n",
            "test loss:  0.048265084624290466\n",
            "test accuracy:  0.9925000071525574\n"
          ]
        }
      ]
    },
    {
      "cell_type": "code",
      "source": [
        "plt.plot(history.history['accuracy'])\n",
        "plt.plot(history.history['val_accuracy'])\n",
        "plt.title('model accuracy')\n",
        "plt.ylabel('accuracy')\n",
        "plt.xlabel('epoch')\n",
        "plt.legend(['train','test'], loc='upper left')\n",
        "plt.show()"
      ],
      "metadata": {
        "id": "jp1sCx_8wfoa",
        "colab": {
          "base_uri": "https://localhost:8080/",
          "height": 472
        },
        "outputId": "0bad9825-a31b-41b1-fdda-bfd806acd4b3"
      },
      "execution_count": null,
      "outputs": [
        {
          "output_type": "display_data",
          "data": {
            "text/plain": [
              "<Figure size 640x480 with 1 Axes>"
            ],
            "image/png": "[encoded data removed]"
          },
          "metadata": {}
        }
      ]
    },
    {
      "cell_type": "code",
      "source": [
        "plt.plot(history.history['loss'])\n",
        "plt.plot(history.history['val_loss'])\n",
        "plt.title('model loss')\n",
        "plt.ylabel('loss')\n",
        "plt.xlabel('epoch')\n",
        "plt.legend(['train','test'], loc='upper left')\n",
        "plt.show()"
      ],
      "metadata": {
        "id": "43TisLQyxZPZ",
        "colab": {
          "base_uri": "https://localhost:8080/",
          "height": 472
        },
        "outputId": "2dc29cfb-0c6a-4e2b-d6b2-a801c16c68ad"
      },
      "execution_count": null,
      "outputs": [
        {
          "output_type": "display_data",
          "data": {
            "text/plain": [
              "<Figure size 640x480 with 1 Axes>"
            ],
            "image/png": "[encoded data removed]"
          },
          "metadata": {}
        }
      ]
    }
  ],
  "metadata": {
    "colab": {
      "provenance": [],
      "gpuType": "T4",
      "include_colab_link": true
    },
    "kernelspec": {
      "display_name": "Python 3",
      "name": "python3"
    },
    "language_info": {
      "name": "python"
    },
    "accelerator": "GPU",
    "gpuClass": "standard"
  },
  "nbformat": 4,
  "nbformat_minor": 0
}