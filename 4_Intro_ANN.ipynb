{
  "cells": [
    {
      "cell_type": "markdown",
      "metadata": {
        "id": "view-in-github",
        "colab_type": "text"
      },
      "source": [
        "<a href=\"https://colab.research.google.com/github/yasminebenbraiek/ML-Intro-Course/blob/main/4_Intro_ANN.ipynb\" target=\"_parent\"><img src=\"https://colab.research.google.com/assets/colab-badge.svg\" alt=\"Open In Colab\"/></a>"
      ]
    },
    {
      "cell_type": "code",
      "execution_count": null,
      "metadata": {
        "id": "0z3eVrFw_gL3"
      },
      "outputs": [],
      "source": [
        "import keras #api/bib pour construire le modele neuronal\n",
        "from keras.datasets import mnist # import the function mnist, used to immport data\n",
        "from keras.models import Sequential #couches sequentielles, utilisé pour préparer l'emplacement des couches\n",
        "from keras.layers import Dense, Dropout # Dense = Fully Connected layer.\n",
        "from keras.optimizers import RMSprop, Adam #agir sur les poids\n",
        "import matplotlib.pyplot as plt # shorcut for a plot function"
      ]
    },
    {
      "cell_type": "code",
      "execution_count": null,
      "metadata": {
        "id": "0uUpfM7cCSyY"
      },
      "outputs": [],
      "source": [
        "batch_size = 1024 #128 #nombre d'exemples pour une mis à jour => w= w - somme(DWi) pour notre cas 60000/128, optimise le taux d'app et gain de temps\n",
        "num_classes = 10\n",
        "epochs = 100"
      ]
    },
    {
      "cell_type": "code",
      "execution_count": null,
      "metadata": {
        "colab": {
          "base_uri": "https://localhost:8080/"
        },
        "id": "258X3nPMCcW2",
        "outputId": "44fb67d1-d7de-46dd-9470-ffe34e651fd6"
      },
      "outputs": [
        {
          "output_type": "stream",
          "name": "stdout",
          "text": [
            "Downloading data from https://storage.googleapis.com/tensorflow/tf-keras-datasets/mnist.npz\n",
            "11490434/11490434 [==============================] - 0s 0us/step\n"
          ]
        }
      ],
      "source": [
        "(x_train, y_train),(x_test,y_test) = mnist.load_data()"
      ]
    },
    {
      "cell_type": "code",
      "execution_count": null,
      "metadata": {
        "colab": {
          "base_uri": "https://localhost:8080/",
          "height": 534
        },
        "id": "PcxhNw8TE5M0",
        "outputId": "1d25cb27-ad97-4405-c024-d72c3c3f80ff"
      },
      "outputs": [
        {
          "output_type": "stream",
          "name": "stdout",
          "text": [
            "(60000, 28, 28)\n",
            "(10000, 28, 28)\n",
            "(60000,)\n",
            "(10000,)\n",
            "[5 0 4 1 9 2 1 3 1 4]\n"
          ]
        },
        {
          "output_type": "execute_result",
          "data": {
            "text/plain": [
              "<matplotlib.image.AxesImage at 0x7f2f414ac070>"
            ]
          },
          "metadata": {},
          "execution_count": 4
        },
        {
          "output_type": "display_data",
          "data": {
            "text/plain": [
              "<Figure size 640x480 with 1 Axes>"
            ],
            "image/png": "[encoded data removed]"
          },
          "metadata": {}
        }
      ],
      "source": [
        "print(x_train.shape)\n",
        "print(x_test.shape)\n",
        "print(y_train.shape)\n",
        "print(y_test.shape)\n",
        "print(y_train[:10])\n",
        "plt.imshow(x_train[9,:,:], cmap='gray')"
      ]
    },
    {
      "cell_type": "code",
      "execution_count": null,
      "metadata": {
        "colab": {
          "base_uri": "https://localhost:8080/"
        },
        "id": "W0fKrOXvGPJM",
        "outputId": "613edb1d-d968-4478-cb3d-78216cfc278c"
      },
      "outputs": [
        {
          "output_type": "stream",
          "name": "stdout",
          "text": [
            "60000 train samples\n",
            "10000 test samples\n"
          ]
        }
      ],
      "source": [
        "x_train = x_train.reshape(60000,784) #couche d'entrée est un vecteur de 784 (caracteristiques) 28*28\n",
        "x_test = x_test.reshape(10000,784)\n",
        "x_train = x_train.astype('float32') #conversion;car c'etait integer, or le calcul dans rna est réel\n",
        "x_test = x_test.astype('float32')\n",
        "x_train  /= 255 #intervalle de [0,1], normalisation, on approche les données d'entrée pour une meilleure performance\n",
        "x_test /= 255\n",
        "print(x_train.shape[0], 'train samples')\n",
        "print(x_test.shape[0], 'test samples')"
      ]
    },
    {
      "cell_type": "code",
      "execution_count": null,
      "metadata": {
        "colab": {
          "base_uri": "https://localhost:8080/"
        },
        "id": "DtnkCuhWH2bk",
        "outputId": "da55c786-c6b9-4ac1-85c6-f12716d12204"
      },
      "outputs": [
        {
          "output_type": "stream",
          "name": "stdout",
          "text": [
            "[1. 0. 0. 0. 0. 0. 0. 0. 0. 0.]\n"
          ]
        }
      ],
      "source": [
        "#on l'excute une fois\n",
        "y_train = keras.utils.to_categorical(y_train, num_classes)\n",
        "y_test = keras.utils.to_categorical(y_test, num_classes)\n",
        "#10 neurones couches de sortie\n",
        "print(y_train[1,:])\n",
        "#proba = 1"
      ]
    },
    {
      "cell_type": "code",
      "execution_count": null,
      "metadata": {
        "colab": {
          "base_uri": "https://localhost:8080/"
        },
        "id": "R7yxqqT-J44_",
        "outputId": "abc7983d-15cd-4a3b-b77c-675dd73536e3"
      },
      "outputs": [
        {
          "output_type": "stream",
          "name": "stdout",
          "text": [
            "Model: \"sequential_1\"\n",
            "_________________________________________________________________\n",
            " Layer (type)                Output Shape              Param #   \n",
            "=================================================================\n",
            " dense_3 (Dense)             (None, 200)               157000    \n",
            "                                                                 \n",
            " dropout_2 (Dropout)         (None, 200)               0         \n",
            "                                                                 \n",
            " dense_4 (Dense)             (None, 200)               40200     \n",
            "                                                                 \n",
            " dropout_3 (Dropout)         (None, 200)               0         \n",
            "                                                                 \n",
            " dense_5 (Dense)             (None, 200)               40200     \n",
            "                                                                 \n",
            " dropout_4 (Dropout)         (None, 200)               0         \n",
            "                                                                 \n",
            " dense_6 (Dense)             (None, 200)               40200     \n",
            "                                                                 \n",
            " dropout_5 (Dropout)         (None, 200)               0         \n",
            "                                                                 \n",
            " dense_7 (Dense)             (None, 10)                2010      \n",
            "                                                                 \n",
            "=================================================================\n",
            "Total params: 279,610\n",
            "Trainable params: 279,610\n",
            "Non-trainable params: 0\n",
            "_________________________________________________________________\n"
          ]
        }
      ],
      "source": [
        "model = Sequential()\n",
        "\n",
        "model.add(Dense(200,activation='relu',input_shape=(784,)))\n",
        "model.add(Dropout(0.5)) #desactivation de 40% des neurones, pour alléger le réseau, eviter le overfitting\n",
        "\n",
        "model.add(Dense(200,activation='relu'))\n",
        "model.add(Dropout(0.5))\n",
        "\n",
        "model.add(Dense(200,activation='relu'))\n",
        "model.add(Dropout(0.5))\n",
        "\n",
        "model.add(Dense(200,activation='relu'))\n",
        "model.add(Dropout(0.5))\n",
        "\n",
        "model.add(Dense(10,activation='softmax')) #sortie en proba : softmax\n",
        "\n",
        "model.summary()"
      ]
    },
    {
      "cell_type": "code",
      "execution_count": null,
      "metadata": {
        "id": "tWesB6_POVCD"
      },
      "outputs": [],
      "source": [
        "model.compile(loss='categorical_crossentropy',\n",
        "              optimizer=Adam(),\n",
        "              metrics=['accuracy'])"
      ]
    },
    {
      "cell_type": "code",
      "execution_count": null,
      "metadata": {
        "colab": {
          "base_uri": "https://localhost:8080/"
        },
        "id": "OfS8sVEbOooq",
        "outputId": "2ecd8c27-27ca-4c9f-e4ca-cf967319f66a"
      },
      "outputs": [
        {
          "output_type": "stream",
          "name": "stdout",
          "text": [
            "Epoch 1/100\n",
            "59/59 [==============================] - 1s 10ms/step - loss: 1.5765 - accuracy: 0.4344 - val_loss: 0.4910 - val_accuracy: 0.8491\n",
            "Epoch 2/100\n",
            "59/59 [==============================] - 0s 7ms/step - loss: 0.5709 - accuracy: 0.8253 - val_loss: 0.2463 - val_accuracy: 0.9274\n",
            "Epoch 3/100\n",
            "59/59 [==============================] - 0s 6ms/step - loss: 0.3850 - accuracy: 0.8919 - val_loss: 0.1842 - val_accuracy: 0.9487\n",
            "Epoch 4/100\n",
            "59/59 [==============================] - 0s 7ms/step - loss: 0.3081 - accuracy: 0.9164 - val_loss: 0.1615 - val_accuracy: 0.9542\n",
            "Epoch 5/100\n",
            "59/59 [==============================] - 0s 6ms/step - loss: 0.2668 - accuracy: 0.9273 - val_loss: 0.1388 - val_accuracy: 0.9614\n",
            "Epoch 6/100\n",
            "59/59 [==============================] - 0s 6ms/step - loss: 0.2401 - accuracy: 0.9358 - val_loss: 0.1320 - val_accuracy: 0.9635\n",
            "Epoch 7/100\n",
            "59/59 [==============================] - 0s 7ms/step - loss: 0.2195 - accuracy: 0.9416 - val_loss: 0.1219 - val_accuracy: 0.9650\n",
            "Epoch 8/100\n",
            "59/59 [==============================] - 0s 6ms/step - loss: 0.2034 - accuracy: 0.9453 - val_loss: 0.1130 - val_accuracy: 0.9687\n",
            "Epoch 9/100\n",
            "59/59 [==============================] - 0s 7ms/step - loss: 0.1917 - accuracy: 0.9491 - val_loss: 0.1117 - val_accuracy: 0.9681\n",
            "Epoch 10/100\n",
            "59/59 [==============================] - 0s 6ms/step - loss: 0.1775 - accuracy: 0.9535 - val_loss: 0.1087 - val_accuracy: 0.9694\n",
            "Epoch 11/100\n",
            "59/59 [==============================] - 0s 7ms/step - loss: 0.1735 - accuracy: 0.9533 - val_loss: 0.1046 - val_accuracy: 0.9703\n",
            "Epoch 12/100\n",
            "59/59 [==============================] - 0s 6ms/step - loss: 0.1625 - accuracy: 0.9561 - val_loss: 0.1012 - val_accuracy: 0.9726\n",
            "Epoch 13/100\n",
            "59/59 [==============================] - 0s 6ms/step - loss: 0.1561 - accuracy: 0.9567 - val_loss: 0.1017 - val_accuracy: 0.9722\n",
            "Epoch 14/100\n",
            "59/59 [==============================] - 0s 7ms/step - loss: 0.1507 - accuracy: 0.9593 - val_loss: 0.1024 - val_accuracy: 0.9722\n",
            "Epoch 15/100\n",
            "59/59 [==============================] - 0s 6ms/step - loss: 0.1471 - accuracy: 0.9598 - val_loss: 0.1008 - val_accuracy: 0.9733\n",
            "Epoch 16/100\n",
            "59/59 [==============================] - 0s 6ms/step - loss: 0.1388 - accuracy: 0.9621 - val_loss: 0.0958 - val_accuracy: 0.9743\n",
            "Epoch 17/100\n",
            "59/59 [==============================] - 0s 6ms/step - loss: 0.1350 - accuracy: 0.9634 - val_loss: 0.0928 - val_accuracy: 0.9744\n",
            "Epoch 18/100\n",
            "59/59 [==============================] - 0s 6ms/step - loss: 0.1288 - accuracy: 0.9650 - val_loss: 0.0922 - val_accuracy: 0.9750\n",
            "Epoch 19/100\n",
            "59/59 [==============================] - 0s 7ms/step - loss: 0.1246 - accuracy: 0.9666 - val_loss: 0.0948 - val_accuracy: 0.9758\n",
            "Epoch 20/100\n",
            "59/59 [==============================] - 0s 6ms/step - loss: 0.1204 - accuracy: 0.9671 - val_loss: 0.0908 - val_accuracy: 0.9754\n",
            "Epoch 21/100\n",
            "59/59 [==============================] - 0s 6ms/step - loss: 0.1210 - accuracy: 0.9669 - val_loss: 0.0878 - val_accuracy: 0.9768\n",
            "Epoch 22/100\n",
            "59/59 [==============================] - 0s 6ms/step - loss: 0.1146 - accuracy: 0.9694 - val_loss: 0.0890 - val_accuracy: 0.9779\n",
            "Epoch 23/100\n",
            "59/59 [==============================] - 0s 6ms/step - loss: 0.1143 - accuracy: 0.9688 - val_loss: 0.0892 - val_accuracy: 0.9765\n",
            "Epoch 24/100\n",
            "59/59 [==============================] - 0s 6ms/step - loss: 0.1088 - accuracy: 0.9694 - val_loss: 0.0866 - val_accuracy: 0.9783\n",
            "Epoch 25/100\n",
            "59/59 [==============================] - 0s 6ms/step - loss: 0.1091 - accuracy: 0.9708 - val_loss: 0.0900 - val_accuracy: 0.9769\n",
            "Epoch 26/100\n",
            "59/59 [==============================] - 0s 7ms/step - loss: 0.1056 - accuracy: 0.9713 - val_loss: 0.0887 - val_accuracy: 0.9780\n",
            "Epoch 27/100\n",
            "59/59 [==============================] - 0s 7ms/step - loss: 0.1020 - accuracy: 0.9717 - val_loss: 0.0870 - val_accuracy: 0.9760\n",
            "Epoch 28/100\n",
            "59/59 [==============================] - 0s 8ms/step - loss: 0.1030 - accuracy: 0.9716 - val_loss: 0.0876 - val_accuracy: 0.9778\n",
            "Epoch 29/100\n",
            "59/59 [==============================] - 0s 8ms/step - loss: 0.1002 - accuracy: 0.9728 - val_loss: 0.0883 - val_accuracy: 0.9776\n",
            "Epoch 30/100\n",
            "59/59 [==============================] - 0s 8ms/step - loss: 0.0985 - accuracy: 0.9733 - val_loss: 0.0859 - val_accuracy: 0.9768\n",
            "Epoch 31/100\n",
            "59/59 [==============================] - 0s 7ms/step - loss: 0.0958 - accuracy: 0.9725 - val_loss: 0.0851 - val_accuracy: 0.9778\n",
            "Epoch 32/100\n",
            "59/59 [==============================] - 0s 6ms/step - loss: 0.0941 - accuracy: 0.9737 - val_loss: 0.0835 - val_accuracy: 0.9774\n",
            "Epoch 33/100\n",
            "59/59 [==============================] - 0s 6ms/step - loss: 0.0905 - accuracy: 0.9747 - val_loss: 0.0903 - val_accuracy: 0.9763\n",
            "Epoch 34/100\n",
            "59/59 [==============================] - 0s 6ms/step - loss: 0.0920 - accuracy: 0.9747 - val_loss: 0.0841 - val_accuracy: 0.9782\n",
            "Epoch 35/100\n",
            "59/59 [==============================] - 0s 6ms/step - loss: 0.0907 - accuracy: 0.9747 - val_loss: 0.0841 - val_accuracy: 0.9794\n",
            "Epoch 36/100\n",
            "59/59 [==============================] - 0s 6ms/step - loss: 0.0858 - accuracy: 0.9757 - val_loss: 0.0840 - val_accuracy: 0.9785\n",
            "Epoch 37/100\n",
            "59/59 [==============================] - 0s 6ms/step - loss: 0.0877 - accuracy: 0.9756 - val_loss: 0.0887 - val_accuracy: 0.9781\n",
            "Epoch 38/100\n",
            "59/59 [==============================] - 0s 7ms/step - loss: 0.0881 - accuracy: 0.9754 - val_loss: 0.0897 - val_accuracy: 0.9785\n",
            "Epoch 39/100\n",
            "59/59 [==============================] - 0s 6ms/step - loss: 0.0834 - accuracy: 0.9769 - val_loss: 0.0860 - val_accuracy: 0.9790\n",
            "Epoch 40/100\n",
            "59/59 [==============================] - 0s 6ms/step - loss: 0.0824 - accuracy: 0.9771 - val_loss: 0.0847 - val_accuracy: 0.9786\n",
            "Epoch 41/100\n",
            "59/59 [==============================] - 0s 7ms/step - loss: 0.0822 - accuracy: 0.9769 - val_loss: 0.0876 - val_accuracy: 0.9789\n",
            "Epoch 42/100\n",
            "59/59 [==============================] - 0s 6ms/step - loss: 0.0835 - accuracy: 0.9763 - val_loss: 0.0842 - val_accuracy: 0.9791\n",
            "Epoch 43/100\n",
            "59/59 [==============================] - 0s 6ms/step - loss: 0.0796 - accuracy: 0.9783 - val_loss: 0.0837 - val_accuracy: 0.9792\n",
            "Epoch 44/100\n",
            "59/59 [==============================] - 0s 6ms/step - loss: 0.0798 - accuracy: 0.9769 - val_loss: 0.0837 - val_accuracy: 0.9797\n",
            "Epoch 45/100\n",
            "59/59 [==============================] - 0s 6ms/step - loss: 0.0786 - accuracy: 0.9783 - val_loss: 0.0859 - val_accuracy: 0.9794\n",
            "Epoch 46/100\n",
            "59/59 [==============================] - 0s 6ms/step - loss: 0.0740 - accuracy: 0.9798 - val_loss: 0.0907 - val_accuracy: 0.9786\n",
            "Epoch 47/100\n",
            "59/59 [==============================] - 0s 6ms/step - loss: 0.0756 - accuracy: 0.9783 - val_loss: 0.0908 - val_accuracy: 0.9790\n",
            "Epoch 48/100\n",
            "59/59 [==============================] - 0s 6ms/step - loss: 0.0765 - accuracy: 0.9784 - val_loss: 0.0879 - val_accuracy: 0.9797\n",
            "Epoch 49/100\n",
            "59/59 [==============================] - 0s 6ms/step - loss: 0.0731 - accuracy: 0.9795 - val_loss: 0.0901 - val_accuracy: 0.9795\n",
            "Epoch 50/100\n",
            "59/59 [==============================] - 0s 6ms/step - loss: 0.0722 - accuracy: 0.9794 - val_loss: 0.0907 - val_accuracy: 0.9784\n",
            "Epoch 51/100\n",
            "59/59 [==============================] - 0s 6ms/step - loss: 0.0694 - accuracy: 0.9802 - val_loss: 0.0885 - val_accuracy: 0.9793\n",
            "Epoch 52/100\n",
            "59/59 [==============================] - 0s 7ms/step - loss: 0.0706 - accuracy: 0.9802 - val_loss: 0.0829 - val_accuracy: 0.9810\n",
            "Epoch 53/100\n",
            "59/59 [==============================] - 0s 7ms/step - loss: 0.0693 - accuracy: 0.9804 - val_loss: 0.0819 - val_accuracy: 0.9801\n",
            "Epoch 54/100\n",
            "59/59 [==============================] - 0s 6ms/step - loss: 0.0702 - accuracy: 0.9798 - val_loss: 0.0919 - val_accuracy: 0.9789\n",
            "Epoch 55/100\n",
            "59/59 [==============================] - 0s 6ms/step - loss: 0.0688 - accuracy: 0.9804 - val_loss: 0.0856 - val_accuracy: 0.9804\n",
            "Epoch 56/100\n",
            "59/59 [==============================] - 0s 6ms/step - loss: 0.0716 - accuracy: 0.9796 - val_loss: 0.0859 - val_accuracy: 0.9797\n",
            "Epoch 57/100\n",
            "59/59 [==============================] - 0s 7ms/step - loss: 0.0674 - accuracy: 0.9806 - val_loss: 0.0841 - val_accuracy: 0.9807\n",
            "Epoch 58/100\n",
            "59/59 [==============================] - 0s 8ms/step - loss: 0.0694 - accuracy: 0.9809 - val_loss: 0.0827 - val_accuracy: 0.9810\n",
            "Epoch 59/100\n",
            "59/59 [==============================] - 0s 8ms/step - loss: 0.0645 - accuracy: 0.9814 - val_loss: 0.0844 - val_accuracy: 0.9804\n",
            "Epoch 60/100\n",
            "59/59 [==============================] - 0s 8ms/step - loss: 0.0637 - accuracy: 0.9817 - val_loss: 0.0829 - val_accuracy: 0.9803\n",
            "Epoch 61/100\n",
            "59/59 [==============================] - 0s 7ms/step - loss: 0.0682 - accuracy: 0.9806 - val_loss: 0.0815 - val_accuracy: 0.9824\n",
            "Epoch 62/100\n",
            "59/59 [==============================] - 0s 7ms/step - loss: 0.0630 - accuracy: 0.9819 - val_loss: 0.0791 - val_accuracy: 0.9812\n",
            "Epoch 63/100\n",
            "59/59 [==============================] - 0s 6ms/step - loss: 0.0654 - accuracy: 0.9812 - val_loss: 0.0817 - val_accuracy: 0.9824\n",
            "Epoch 64/100\n",
            "59/59 [==============================] - 0s 6ms/step - loss: 0.0628 - accuracy: 0.9826 - val_loss: 0.0784 - val_accuracy: 0.9821\n",
            "Epoch 65/100\n",
            "59/59 [==============================] - 0s 6ms/step - loss: 0.0607 - accuracy: 0.9823 - val_loss: 0.0832 - val_accuracy: 0.9806\n",
            "Epoch 66/100\n",
            "59/59 [==============================] - 0s 6ms/step - loss: 0.0607 - accuracy: 0.9826 - val_loss: 0.0860 - val_accuracy: 0.9800\n",
            "Epoch 67/100\n",
            "59/59 [==============================] - 0s 7ms/step - loss: 0.0619 - accuracy: 0.9825 - val_loss: 0.0844 - val_accuracy: 0.9816\n",
            "Epoch 68/100\n",
            "59/59 [==============================] - 0s 6ms/step - loss: 0.0602 - accuracy: 0.9825 - val_loss: 0.0824 - val_accuracy: 0.9810\n",
            "Epoch 69/100\n",
            "59/59 [==============================] - 0s 6ms/step - loss: 0.0581 - accuracy: 0.9832 - val_loss: 0.0858 - val_accuracy: 0.9809\n",
            "Epoch 70/100\n",
            "59/59 [==============================] - 0s 7ms/step - loss: 0.0612 - accuracy: 0.9828 - val_loss: 0.0841 - val_accuracy: 0.9800\n",
            "Epoch 71/100\n",
            "59/59 [==============================] - 0s 7ms/step - loss: 0.0565 - accuracy: 0.9845 - val_loss: 0.0820 - val_accuracy: 0.9808\n",
            "Epoch 72/100\n",
            "59/59 [==============================] - 0s 7ms/step - loss: 0.0626 - accuracy: 0.9828 - val_loss: 0.0819 - val_accuracy: 0.9816\n",
            "Epoch 73/100\n",
            "59/59 [==============================] - 0s 6ms/step - loss: 0.0594 - accuracy: 0.9831 - val_loss: 0.0883 - val_accuracy: 0.9800\n",
            "Epoch 74/100\n",
            "59/59 [==============================] - 0s 6ms/step - loss: 0.0591 - accuracy: 0.9827 - val_loss: 0.0838 - val_accuracy: 0.9805\n",
            "Epoch 75/100\n",
            "59/59 [==============================] - 0s 6ms/step - loss: 0.0575 - accuracy: 0.9834 - val_loss: 0.0896 - val_accuracy: 0.9805\n",
            "Epoch 76/100\n",
            "59/59 [==============================] - 0s 7ms/step - loss: 0.0577 - accuracy: 0.9839 - val_loss: 0.0868 - val_accuracy: 0.9808\n",
            "Epoch 77/100\n",
            "59/59 [==============================] - 0s 6ms/step - loss: 0.0569 - accuracy: 0.9836 - val_loss: 0.0896 - val_accuracy: 0.9806\n",
            "Epoch 78/100\n",
            "59/59 [==============================] - 0s 6ms/step - loss: 0.0592 - accuracy: 0.9836 - val_loss: 0.0854 - val_accuracy: 0.9808\n",
            "Epoch 79/100\n",
            "59/59 [==============================] - 0s 7ms/step - loss: 0.0558 - accuracy: 0.9840 - val_loss: 0.0857 - val_accuracy: 0.9812\n",
            "Epoch 80/100\n",
            "59/59 [==============================] - 0s 7ms/step - loss: 0.0562 - accuracy: 0.9840 - val_loss: 0.0848 - val_accuracy: 0.9822\n",
            "Epoch 81/100\n",
            "59/59 [==============================] - 0s 7ms/step - loss: 0.0552 - accuracy: 0.9840 - val_loss: 0.0860 - val_accuracy: 0.9815\n",
            "Epoch 82/100\n",
            "59/59 [==============================] - 0s 6ms/step - loss: 0.0566 - accuracy: 0.9836 - val_loss: 0.0878 - val_accuracy: 0.9815\n",
            "Epoch 83/100\n",
            "59/59 [==============================] - 0s 7ms/step - loss: 0.0549 - accuracy: 0.9837 - val_loss: 0.0843 - val_accuracy: 0.9821\n",
            "Epoch 84/100\n",
            "59/59 [==============================] - 0s 6ms/step - loss: 0.0546 - accuracy: 0.9843 - val_loss: 0.0849 - val_accuracy: 0.9824\n",
            "Epoch 85/100\n",
            "59/59 [==============================] - 0s 6ms/step - loss: 0.0551 - accuracy: 0.9843 - val_loss: 0.0881 - val_accuracy: 0.9810\n",
            "Epoch 86/100\n",
            "59/59 [==============================] - 0s 7ms/step - loss: 0.0534 - accuracy: 0.9841 - val_loss: 0.0830 - val_accuracy: 0.9799\n",
            "Epoch 87/100\n",
            "59/59 [==============================] - 0s 6ms/step - loss: 0.0542 - accuracy: 0.9843 - val_loss: 0.0871 - val_accuracy: 0.9809\n",
            "Epoch 88/100\n",
            "59/59 [==============================] - 0s 6ms/step - loss: 0.0533 - accuracy: 0.9840 - val_loss: 0.0876 - val_accuracy: 0.9803\n",
            "Epoch 89/100\n",
            "59/59 [==============================] - 1s 9ms/step - loss: 0.0527 - accuracy: 0.9855 - val_loss: 0.0836 - val_accuracy: 0.9808\n",
            "Epoch 90/100\n",
            "59/59 [==============================] - 0s 7ms/step - loss: 0.0548 - accuracy: 0.9846 - val_loss: 0.0855 - val_accuracy: 0.9803\n",
            "Epoch 91/100\n",
            "59/59 [==============================] - 0s 8ms/step - loss: 0.0504 - accuracy: 0.9850 - val_loss: 0.0817 - val_accuracy: 0.9826\n",
            "Epoch 92/100\n",
            "59/59 [==============================] - 0s 7ms/step - loss: 0.0516 - accuracy: 0.9848 - val_loss: 0.0859 - val_accuracy: 0.9810\n",
            "Epoch 93/100\n",
            "59/59 [==============================] - 0s 8ms/step - loss: 0.0503 - accuracy: 0.9853 - val_loss: 0.0865 - val_accuracy: 0.9818\n",
            "Epoch 94/100\n",
            "59/59 [==============================] - 0s 7ms/step - loss: 0.0513 - accuracy: 0.9851 - val_loss: 0.0876 - val_accuracy: 0.9820\n",
            "Epoch 95/100\n",
            "59/59 [==============================] - 0s 7ms/step - loss: 0.0506 - accuracy: 0.9861 - val_loss: 0.0844 - val_accuracy: 0.9826\n",
            "Epoch 96/100\n",
            "59/59 [==============================] - 0s 7ms/step - loss: 0.0522 - accuracy: 0.9850 - val_loss: 0.0891 - val_accuracy: 0.9805\n",
            "Epoch 97/100\n",
            "59/59 [==============================] - 0s 7ms/step - loss: 0.0505 - accuracy: 0.9853 - val_loss: 0.0852 - val_accuracy: 0.9820\n",
            "Epoch 98/100\n",
            "59/59 [==============================] - 0s 7ms/step - loss: 0.0509 - accuracy: 0.9848 - val_loss: 0.0893 - val_accuracy: 0.9807\n",
            "Epoch 99/100\n",
            "59/59 [==============================] - 0s 6ms/step - loss: 0.0511 - accuracy: 0.9856 - val_loss: 0.0868 - val_accuracy: 0.9817\n",
            "Epoch 100/100\n",
            "59/59 [==============================] - 0s 6ms/step - loss: 0.0507 - accuracy: 0.9854 - val_loss: 0.0883 - val_accuracy: 0.9809\n"
          ]
        }
      ],
      "source": [
        "history = model.fit(\n",
        "    x_train,\n",
        "    y_train,\n",
        "    batch_size = batch_size,\n",
        "    epochs=epochs,\n",
        "    verbose = 1, #print all\n",
        "    validation_data = (x_test,y_test)\n",
        ")"
      ]
    },
    {
      "cell_type": "code",
      "source": [
        "score = model.evaluate(x_test,y_test,verbose=1,batch_size=batch_size)\n",
        "print('test loss: ',score[0])\n",
        "print('test accuracy: ',score[1])"
      ],
      "metadata": {
        "colab": {
          "base_uri": "https://localhost:8080/"
        },
        "id": "uG0JsAetwAkv",
        "outputId": "d545188d-0ad4-4169-fdaf-1f27655b28b9"
      },
      "execution_count": null,
      "outputs": [
        {
          "output_type": "stream",
          "name": "stdout",
          "text": [
            "10/10 [==============================] - 0s 5ms/step - loss: 0.0883 - accuracy: 0.9809\n",
            "test loss:  0.08829672634601593\n",
            "test accuracy:  0.98089998960495\n"
          ]
        }
      ]
    },
    {
      "cell_type": "code",
      "source": [
        "plt.plot(history.history['accuracy'])\n",
        "plt.plot(history.history['val_accuracy'])\n",
        "plt.title('model accuracy')\n",
        "plt.ylabel('accuracy')\n",
        "plt.xlabel('epoch')\n",
        "plt.legend(['train','test'], loc='upper left')\n",
        "plt.show()"
      ],
      "metadata": {
        "colab": {
          "base_uri": "https://localhost:8080/",
          "height": 472
        },
        "id": "jp1sCx_8wfoa",
        "outputId": "330e8daf-16a2-43c2-eaa8-22cb102f0359"
      },
      "execution_count": null,
      "outputs": [
        {
          "output_type": "display_data",
          "data": {
            "text/plain": [
              "<Figure size 640x480 with 1 Axes>"
            ],
            "image/png": "[encoded data removed]"
          },
          "metadata": {}
        }
      ]
    },
    {
      "cell_type": "code",
      "source": [
        "plt.plot(history.history['loss'])\n",
        "plt.plot(history.history['val_loss'])\n",
        "plt.title('model loss')\n",
        "plt.ylabel('loss')\n",
        "plt.xlabel('epoch')\n",
        "plt.legend(['train','test'], loc='upper left')\n",
        "plt.show()"
      ],
      "metadata": {
        "colab": {
          "base_uri": "https://localhost:8080/",
          "height": 472
        },
        "id": "43TisLQyxZPZ",
        "outputId": "29096d2a-9071-423c-9e32-020d7213ef00"
      },
      "execution_count": null,
      "outputs": [
        {
          "output_type": "display_data",
          "data": {
            "text/plain": [
              "<Figure size 640x480 with 1 Axes>"
            ],
            "image/png": "[encoded data removed]"
          },
          "metadata": {}
        }
      ]
    }
  ],
  "metadata": {
    "colab": {
      "provenance": [],
      "gpuType": "T4",
      "include_colab_link": true
    },
    "kernelspec": {
      "display_name": "Python 3",
      "name": "python3"
    },
    "language_info": {
      "name": "python"
    },
    "accelerator": "GPU",
    "gpuClass": "standard"
  },
  "nbformat": 4,
  "nbformat_minor": 0
}